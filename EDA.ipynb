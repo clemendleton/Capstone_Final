{
 "cells": [
  {
   "cell_type": "markdown",
   "metadata": {},
   "source": [
    "# EDA"
   ]
  },
  {
   "cell_type": "markdown",
   "metadata": {},
   "source": [
    "## Weather Data\n",
    "\n",
    "#### Global Historical Climatology Network (GHCN):\n",
    "\n",
    "<ul>\n",
    "    <li><a href=\"./GHCN%20Univariate%20EDA.ipynb\">Univariate Analysis</a></li>\n",
    "</ul>\n",
    "\n",
    "#### Global Summary of the Month (GSOM):\n",
    "<ul>\n",
    "    <li><a href=\"./GSOM%20Univariate%20EDA.ipynb\">Univariate Analysis</a></li>\n",
    "</ul>\n",
    "\n",
    "## Traffic Data:\n",
    "\n",
    "<ul>\n",
    "    <li><a href=\"./GHCN-Traffic%20Correlations%20-%20by%20week%20%26%20weekday%20%26%20direction%20-%20station%20pairings.ipynb\">Daily - Bivariate with Weather\n",
    "    <li><a href=\"./jwcp64_traffic_population_gsom_EDA.ipynb\">Monthly - Univariate & Bivariate Analysis</a></li>\n",
    "</ul>\n",
    "        \n",
    "## Hotel Data:\n",
    "\n",
    "<ul>\n",
    "    <li><a href=\"./Hotel%20Data%20EDA.ipynb\">Univariate & Bivariate Analysis with Weather</a></li>\n",
    "</ul>\n",
    "\n",
    "<ul>\n",
    "    <li><a href=\"./Hotel_EDA_Final.ipynb\">Futher Exploratory Analysis</a></li>\n",
    "</ul>\n",
    "\n",
    "<hr style=\"height:2px;border-width:0;color:gray;background-color:gray\">\n",
    "\n",
    "<i>The below datasets were ingested and reviewed, but ultimately found to not be useful for this project:</i>\n",
    "\n",
    "## Other Weather Data:\n",
    "\n",
    "\n",
    "#### Global Summary of the Day (GSOD):\n",
    "<ul>\n",
    "    <li><a href=\"./GSOD%20Univariate.ipynb\">Univariate Analysis</a></li>\n",
    "    <li><a href=\"./GSOD%20Bivariate%20EDA.ipynb\">Bivariate Analysis</a></li>\n",
    "</ul>\n",
    "    \n",
    "    \n",
    "## Airport Data:\n",
    "\n",
    "<ul>\n",
    "    <li><a href=\"./Airport%20Univariate.ipynb\">Univariate Analysis</a></li>\n",
    "    <li><a href=\"./Airport%20Bivariate.ipynb\">Bivariate Analysis</a></li>\n",
    "    <li><a href=\"./Weather-Airport.ipynb\">Correlations with Weather Data</a></li>\n",
    "</ul>\n",
    "\n",
    "## Employment Data:\n",
    "\n",
    "<ul>\n",
    "    <li><a href=\"./Census_Bureau_Employment_Data.ipynb\">Correlations with Weather Data</a></li>\n",
    "</ul>\n",
    "\n"
   ]
  },
  {
   "cell_type": "code",
   "execution_count": null,
   "metadata": {},
   "outputs": [],
   "source": []
  }
 ],
 "metadata": {
  "kernelspec": {
   "display_name": "Python 3",
   "language": "python",
   "name": "python3"
  },
  "language_info": {
   "codemirror_mode": {
    "name": "ipython",
    "version": 3
   },
   "file_extension": ".py",
   "mimetype": "text/x-python",
   "name": "python",
   "nbconvert_exporter": "python",
   "pygments_lexer": "ipython3",
   "version": "3.7.3"
  }
 },
 "nbformat": 4,
 "nbformat_minor": 2
}
