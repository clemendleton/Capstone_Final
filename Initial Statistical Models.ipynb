{
 "cells": [
  {
   "cell_type": "markdown",
   "metadata": {},
   "source": [
    "# Initial Stat/ML Models"
   ]
  },
  {
   "cell_type": "markdown",
   "metadata": {},
   "source": [
    "## Data Assessment / Analysis\n",
    "<ul>\n",
    "    <li><a href=\"./WeatherbyDecade.ipynb\">Analysis of weather data by decade</a></li>\n",
    "    <li><a href=\"./Bi-Directional_Traffic_Weather_Patterns_And_Modelling.ipynb\">Analysis of traffic data by direction and day of week</a></li>\n",
    "</ul>\n",
    "\n",
    "## Initial Statistical/ML Modeling\n",
    "<ul>\n",
    "    <li><a href=\"./Predict%20Missing%20Values.ipynb\">Attempting to predict missing values</a></li>\n",
    "    <li><a href=\"./Initial%20Exploratory%20Modeling%20using%20Gradient%20Boost%2C%20Random%20Forest%2C%20and%20Lasso.ipynb\">Initial Exploratory modeling using Gradient Boost, Random Forest, and Lasso regression</a></li>\n",
    "</ul>"
   ]
  }
 ],
 "metadata": {
  "kernelspec": {
   "display_name": "Python 3",
   "language": "python",
   "name": "python3"
  },
  "language_info": {
   "codemirror_mode": {
    "name": "ipython",
    "version": 3
   },
   "file_extension": ".py",
   "mimetype": "text/x-python",
   "name": "python",
   "nbconvert_exporter": "python",
   "pygments_lexer": "ipython3",
   "version": "3.7.3"
  }
 },
 "nbformat": 4,
 "nbformat_minor": 2
}
