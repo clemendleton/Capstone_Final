{
 "cells": [
  {
   "cell_type": "markdown",
   "metadata": {},
   "source": [
    "# Data Ingestion & Carpentry\n",
    "\n",
    "Best Viewed in Jupyter\n",
    "\n",
    "## Weather Data:\n",
    "<ul>\n",
    "    <li><a href=\"./Load%20GHCN%20Data.ipynb\">GHCN Data</a></li>    \n",
    "    <li><a href=\"./Load%20Supplemental%20GSOM%20Data.ipynb\">GSOM Data</a></li>\n",
    "    <ul>\n",
    "        <li>Note the GSOM data was used to supplement the GHCN data only</li>\n",
    "    </ul>\n",
    "</ul>\n",
    "\n",
    "## Traffic / Travel Data:\n",
    "<ul>\n",
    "    <li><a href=\"./Load%20Daily%20Traffic%20Data.ipynb\">Daily Traffic Data</a></li>\n",
    "</ul>\n",
    "\n",
    "## Hotel Data:\n",
    "<ul>\n",
    "    <li><a href=\"./Load%20Hotel%20STR%20Data.ipynb\">STR Hotel Metrics</a></li>\n",
    "</ul>\n",
    "\n",
    "<hr style=\"height:2px;border-width:0;color:gray;background-color:gray\">\n",
    "\n",
    "\n",
    "<i>The below datasets were ingested and reviewed, but ultimately found to not be useful for this project:</i>\n",
    "\n",
    "## Other Weather Data:\n",
    "<ul>\n",
    "        <li><a href=\"./Load%20NOAA%20GSOD%20Data.ipynb\">NOAA GSOD Data</a></li>\n",
    "            <li><a href=\"./Load%20Snow-Water%20Equivalent%20%26%20Snow%20Depth%20Measurements%20from%20USDA%20(NWCC).ipynb\">Snow-Water Equivalent & Snow Depth Data</a>\n",
    "</ul>\n",
    "\n",
    "## Drought / Wildfire Data:\n",
    "<ul>\n",
    "        <li><a href=\"./Load%20Drought%20Monitor%20Statistics.ipynb\">Drought Monitor Statistics</a></li>\n",
    "        <li><a href=\"./Load%20Fire%20Data.ipynb\">Wildfire data</a></li>\n",
    "</ul>\n",
    "\n",
    "## Other Traffic Data:\n",
    "<ul>\n",
    "    <li><a href=\"./Load%20Annual%20Traffic%20Data.ipynb\">Annual Traffic Data (proportions of trucks to other vehicles)</a></li>\n",
    "    <li><a href=\"./Airport%20Data.ipynb\">Airport Flight/Passenger Data</a></li>\n",
    "    <li><u><strong>Monthly Traffic Data:</u></strong>\n",
    "        <ul>\n",
    "            <li><a href=\"./Monthly%20Traffic%20Data%20-%20Revised%20Prep.ipynb\">Preparation</a></li>\n",
    "        </ul>\n",
    "    </li>\n",
    "</ul>\n",
    "\n",
    "\n",
    "## Financial / Employment / Housing Data:\n",
    "<ul>\n",
    "    <li><a href=\"./Load%20MTN%20Historical%20Stock%20Prices.ipynb\">Vail Resorts, Inc (MTN) Historical Stock Prices</a></li>\n",
    "    <li><a href=\"./Load%20Summit_HPI.ipynb\">Housing Price Index for Summit County</a></li>\n",
    "    <li><a href=\"./Load%20Summit_NHP.ipynb\">New Housing permits for Summit County</a></li>\n",
    "    <li><a href=\"./Employment%20Data.ipynb\">Historical & Seasonally Adjusted Employment Data for Colorado</a></li>\n",
    "</ul>"
   ]
  },
  {
   "cell_type": "code",
   "execution_count": null,
   "metadata": {},
   "outputs": [],
   "source": []
  }
 ],
 "metadata": {
  "kernelspec": {
   "display_name": "Python 3",
   "language": "python",
   "name": "python3"
  },
  "language_info": {
   "codemirror_mode": {
    "name": "ipython",
    "version": 3
   },
   "file_extension": ".py",
   "mimetype": "text/x-python",
   "name": "python",
   "nbconvert_exporter": "python",
   "pygments_lexer": "ipython3",
   "version": "3.7.3"
  }
 },
 "nbformat": 4,
 "nbformat_minor": 2
}
