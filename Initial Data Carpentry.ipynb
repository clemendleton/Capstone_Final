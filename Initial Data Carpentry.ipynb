{
 "cells": [
  {
   "cell_type": "markdown",
   "metadata": {},
   "source": [
    "# Initial Data Carpentry\n",
    "Best Viewed in Jupyter\n",
    "\n",
    "### 1.   [NOAA GSOD Data](./Load%20NOAA%20GSOD%20Data.ipynb)\n",
    "### 2.   [Vail Resorts, Inc (MTN) Historical Stock Prices](./Load%20MTN%20Historical%20Stock%20Prices.ipynb)\n",
    "### 3.   [Drought Monitor Statistics](./Load%20Drought%20Monitor%20Statistics.ipynb)"
   ]
  }
 ],
 "metadata": {
  "kernelspec": {
   "display_name": "Python 3",
   "language": "python",
   "name": "python3"
  },
  "language_info": {
   "codemirror_mode": {
    "name": "ipython",
    "version": 3
   },
   "file_extension": ".py",
   "mimetype": "text/x-python",
   "name": "python",
   "nbconvert_exporter": "python",
   "pygments_lexer": "ipython3",
   "version": "3.7.3"
  }
 },
 "nbformat": 4,
 "nbformat_minor": 2
}
